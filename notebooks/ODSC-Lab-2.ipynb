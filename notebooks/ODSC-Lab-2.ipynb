{
 "cells": [
  {
   "cell_type": "code",
   "execution_count": 1,
   "metadata": {},
   "outputs": [
    {
     "name": "stdout",
     "output_type": "stream",
     "text": [
      "--2020-04-17 16:20:20--  https://hadoop-and-big-data.s3-us-west-2.amazonaws.com/fitness-tracker/health_tracker_data_2020_1.json\n",
      "Resolving hadoop-and-big-data.s3-us-west-2.amazonaws.com (hadoop-and-big-data.s3-us-west-2.amazonaws.com)... 52.218.197.81\n",
      "Connecting to hadoop-and-big-data.s3-us-west-2.amazonaws.com (hadoop-and-big-data.s3-us-west-2.amazonaws.com)|52.218.197.81|:443... connected.\n",
      "HTTP request sent, awaiting response... 200 OK\n",
      "Length: 305999 (299K) [application/json]\n",
      "Saving to: ‘health_tracker_data_2020_1.json’\n",
      "\n",
      "health_tracker_data 100%[===================>] 298.83K  1.60MB/s    in 0.2s    \n",
      "\n",
      "2020-04-17 16:20:21 (1.60 MB/s) - ‘health_tracker_data_2020_1.json’ saved [305999/305999]\n",
      "\n"
     ]
    }
   ],
   "source": [
    "!wget https://hadoop-and-big-data.s3-us-west-2.amazonaws.com/fitness-tracker/health_tracker_data_2020_1.json"
   ]
  },
  {
   "cell_type": "code",
   "execution_count": 2,
   "metadata": {},
   "outputs": [
    {
     "name": "stdout",
     "output_type": "stream",
     "text": [
      "--2020-04-17 16:20:25--  https://hadoop-and-big-data.s3-us-west-2.amazonaws.com/fitness-tracker/health_tracker_data_2020_2.json\n",
      "Resolving hadoop-and-big-data.s3-us-west-2.amazonaws.com (hadoop-and-big-data.s3-us-west-2.amazonaws.com)... 52.218.197.81\n",
      "Connecting to hadoop-and-big-data.s3-us-west-2.amazonaws.com (hadoop-and-big-data.s3-us-west-2.amazonaws.com)|52.218.197.81|:443... connected.\n",
      "HTTP request sent, awaiting response... 200 OK\n",
      "Length: 280434 (274K) [application/json]\n",
      "Saving to: ‘health_tracker_data_2020_2.json’\n",
      "\n",
      "health_tracker_data 100%[===================>] 273.86K  1.56MB/s    in 0.2s    \n",
      "\n",
      "2020-04-17 16:20:25 (1.56 MB/s) - ‘health_tracker_data_2020_2.json’ saved [280434/280434]\n",
      "\n"
     ]
    }
   ],
   "source": [
    "!wget https://hadoop-and-big-data.s3-us-west-2.amazonaws.com/fitness-tracker/health_tracker_data_2020_2.json"
   ]
  },
  {
   "cell_type": "code",
   "execution_count": 3,
   "metadata": {},
   "outputs": [
    {
     "name": "stdout",
     "output_type": "stream",
     "text": [
      "--2020-04-17 16:20:36--  https://hadoop-and-big-data.s3-us-west-2.amazonaws.com/fitness-tracker/health_tracker_data_2020_3.json\n",
      "Resolving hadoop-and-big-data.s3-us-west-2.amazonaws.com (hadoop-and-big-data.s3-us-west-2.amazonaws.com)... 52.218.220.89\n",
      "Connecting to hadoop-and-big-data.s3-us-west-2.amazonaws.com (hadoop-and-big-data.s3-us-west-2.amazonaws.com)|52.218.220.89|:443... connected.\n",
      "HTTP request sent, awaiting response... 200 OK\n",
      "Length: 306065 (299K) [application/json]\n",
      "Saving to: ‘health_tracker_data_2020_3.json’\n",
      "\n",
      "health_tracker_data 100%[===================>] 298.89K  1.07MB/s    in 0.3s    \n",
      "\n",
      "2020-04-17 16:20:36 (1.07 MB/s) - ‘health_tracker_data_2020_3.json’ saved [306065/306065]\n",
      "\n"
     ]
    }
   ],
   "source": [
    "!wget https://hadoop-and-big-data.s3-us-west-2.amazonaws.com/fitness-tracker/health_tracker_data_2020_3.json"
   ]
  },
  {
   "cell_type": "code",
   "execution_count": 4,
   "metadata": {},
   "outputs": [
    {
     "name": "stdout",
     "output_type": "stream",
     "text": [
      "health_tracker_data_2020_1.json  Untitled1.ipynb\n",
      "health_tracker_data_2020_2.json  Untitled.ipynb\n",
      "health_tracker_data_2020_3.json\n"
     ]
    }
   ],
   "source": [
    "!ls"
   ]
  },
  {
   "cell_type": "code",
   "execution_count": 5,
   "metadata": {},
   "outputs": [],
   "source": [
    "!rm -rf ../data/health_tracker"
   ]
  },
  {
   "cell_type": "code",
   "execution_count": 6,
   "metadata": {},
   "outputs": [],
   "source": [
    "!mkdir -p ../data/health_tracker/raw"
   ]
  },
  {
   "cell_type": "code",
   "execution_count": 7,
   "metadata": {},
   "outputs": [],
   "source": [
    "!mv health_tracker_data* ../data/health_tracker/raw"
   ]
  },
  {
   "cell_type": "code",
   "execution_count": 8,
   "metadata": {},
   "outputs": [],
   "source": [
    "health_tracker = \"../data/health_tracker/\""
   ]
  },
  {
   "cell_type": "code",
   "execution_count": 9,
   "metadata": {},
   "outputs": [],
   "source": [
    "from os import environ\n",
    "\n",
    "environ['PYSPARK_SUBMIT_ARGS'] = '--packages \"io.delta:delta-core_2.11:0.5.0\" pyspark-shell'\n",
    "\n",
    "from pyspark import sql\n",
    "spark = sql.SparkSession.builder \\\n",
    "        .master(\"local[8]\") \\\n",
    "        .getOrCreate()\n",
    "def display(dataframe):\n",
    "    return dataframe.show()"
   ]
  },
  {
   "cell_type": "code",
   "execution_count": 10,
   "metadata": {},
   "outputs": [],
   "source": [
    "raw_health_tracker_data_df = spark.read \\\n",
    "    .format(\"text\") \\\n",
    "    .load(health_tracker + \"raw/health_tracker_data_2020_1.json\")"
   ]
  },
  {
   "cell_type": "code",
   "execution_count": 11,
   "metadata": {},
   "outputs": [
    {
     "name": "stdout",
     "output_type": "stream",
     "text": [
      "+--------------------+\n",
      "|               value|\n",
      "+--------------------+\n",
      "|{\"device_id\":0,\"h...|\n",
      "|{\"device_id\":0,\"h...|\n",
      "|{\"device_id\":0,\"h...|\n",
      "|{\"device_id\":0,\"h...|\n",
      "|{\"device_id\":0,\"h...|\n",
      "|{\"device_id\":0,\"h...|\n",
      "|{\"device_id\":0,\"h...|\n",
      "|{\"device_id\":0,\"h...|\n",
      "|{\"device_id\":0,\"h...|\n",
      "|{\"device_id\":0,\"h...|\n",
      "|{\"device_id\":0,\"h...|\n",
      "|{\"device_id\":0,\"h...|\n",
      "|{\"device_id\":0,\"h...|\n",
      "|{\"device_id\":0,\"h...|\n",
      "|{\"device_id\":0,\"h...|\n",
      "|{\"device_id\":0,\"h...|\n",
      "|{\"device_id\":0,\"h...|\n",
      "|{\"device_id\":0,\"h...|\n",
      "|{\"device_id\":0,\"h...|\n",
      "|{\"device_id\":0,\"h...|\n",
      "+--------------------+\n",
      "only showing top 20 rows\n",
      "\n"
     ]
    }
   ],
   "source": [
    "display(raw_health_tracker_data_df)"
   ]
  },
  {
   "cell_type": "code",
   "execution_count": 12,
   "metadata": {},
   "outputs": [
    {
     "name": "stdout",
     "output_type": "stream",
     "text": [
      "root\n",
      " |-- value: string (nullable = true)\n",
      "\n"
     ]
    }
   ],
   "source": [
    "raw_health_tracker_data_df.printSchema()"
   ]
  },
  {
   "cell_type": "code",
   "execution_count": 13,
   "metadata": {},
   "outputs": [],
   "source": [
    "raw_health_tracker_data_df.write \\\n",
    "    .mode(\"append\") \\\n",
    "    .format(\"delta\") \\\n",
    "    .save(health_tracker + \"bronze\")"
   ]
  },
  {
   "cell_type": "code",
   "execution_count": 16,
   "metadata": {},
   "outputs": [],
   "source": [
    "!rm ../data/health_tracker/raw/health_tracker_data_2020_1.json"
   ]
  },
  {
   "cell_type": "code",
   "execution_count": 17,
   "metadata": {},
   "outputs": [],
   "source": [
    "bronze_health_tracker_data_df = spark.read \\\n",
    "    .format(\"delta\") \\\n",
    "    .load(health_tracker + \"bronze\")"
   ]
  },
  {
   "cell_type": "code",
   "execution_count": 18,
   "metadata": {},
   "outputs": [],
   "source": [
    "from pyspark.sql.functions import col, from_json\n",
    "\n",
    "json_schema = \"device_id int, heartrate double, name string, time float\"\n",
    "bronze_health_tracker_data_df = bronze_health_tracker_data_df \\\n",
    "    .withColumn(\"json\", from_json(col(\"value\"), json_schema))"
   ]
  },
  {
   "cell_type": "code",
   "execution_count": 19,
   "metadata": {},
   "outputs": [
    {
     "name": "stdout",
     "output_type": "stream",
     "text": [
      "root\n",
      " |-- value: string (nullable = true)\n",
      " |-- json: struct (nullable = true)\n",
      " |    |-- device_id: integer (nullable = true)\n",
      " |    |-- heartrate: double (nullable = true)\n",
      " |    |-- name: string (nullable = true)\n",
      " |    |-- time: float (nullable = true)\n",
      "\n"
     ]
    }
   ],
   "source": [
    "bronze_health_tracker_data_df.printSchema()"
   ]
  },
  {
   "cell_type": "code",
   "execution_count": 20,
   "metadata": {},
   "outputs": [
    {
     "name": "stdout",
     "output_type": "stream",
     "text": [
      "+--------------------+--------------------+\n",
      "|               value|                json|\n",
      "+--------------------+--------------------+\n",
      "|{\"device_id\":0,\"h...|[0, 52.8139067501...|\n",
      "|{\"device_id\":0,\"h...|[0, 53.9078900098...|\n",
      "|{\"device_id\":0,\"h...|[0, 52.7129593616...|\n",
      "|{\"device_id\":0,\"h...|[0, 52.2880422685...|\n",
      "|{\"device_id\":0,\"h...|[0, 52.5156095386...|\n",
      "|{\"device_id\":0,\"h...|[0, 53.6280743846...|\n",
      "|{\"device_id\":0,\"h...|[0, 52.1760037066...|\n",
      "|{\"device_id\":0,\"h...|[0, 90.0456721836...|\n",
      "|{\"device_id\":0,\"h...|[0, 89.4695644522...|\n",
      "|{\"device_id\":0,\"h...|[0, 88.1490304138...|\n",
      "|{\"device_id\":0,\"h...|[0, 86.3092976213...|\n",
      "|{\"device_id\":0,\"h...|[0, 86.6672980008...|\n",
      "|{\"device_id\":0,\"h...|[0, 89.2044154758...|\n",
      "|{\"device_id\":0,\"h...|[0, 88.8691678316...|\n",
      "|{\"device_id\":0,\"h...|[0, 87.7252170634...|\n",
      "|{\"device_id\":0,\"h...|[0, 87.8357187561...|\n",
      "|{\"device_id\":0,\"h...|[0, 87.1769562648...|\n",
      "|{\"device_id\":0,\"h...|[0, 88.3403107931...|\n",
      "|{\"device_id\":0,\"h...|[0, 88.9083484735...|\n",
      "|{\"device_id\":0,\"h...|[0, 87.921434203,...|\n",
      "+--------------------+--------------------+\n",
      "only showing top 20 rows\n",
      "\n"
     ]
    }
   ],
   "source": [
    "display(bronze_health_tracker_data_df)"
   ]
  },
  {
   "cell_type": "code",
   "execution_count": 21,
   "metadata": {},
   "outputs": [],
   "source": [
    "silver_health_tracker_data_df = bronze_health_tracker_data_df \\\n",
    "    .select(\n",
    "        col(\"json.device_id\"),\n",
    "        col(\"json.heartrate\"),\n",
    "        col(\"json.name\"),\n",
    "        col(\"json.time\"),\n",
    "    )"
   ]
  },
  {
   "cell_type": "code",
   "execution_count": 23,
   "metadata": {},
   "outputs": [
    {
     "name": "stdout",
     "output_type": "stream",
     "text": [
      "+---------+-------------+--------------+------------+\n",
      "|device_id|    heartrate|          name|        time|\n",
      "+---------+-------------+--------------+------------+\n",
      "|        0|52.8139067501|Deborah Powell| 1.5778368E9|\n",
      "|        0|53.9078900098|Deborah Powell|1.57784038E9|\n",
      "|        0|52.7129593616|Deborah Powell|1.57784397E9|\n",
      "|        0|52.2880422685|Deborah Powell|1.57784755E9|\n",
      "|        0|52.5156095386|Deborah Powell|1.57785114E9|\n",
      "|        0|53.6280743846|Deborah Powell|1.57785485E9|\n",
      "|        0|52.1760037066|Deborah Powell|1.57785843E9|\n",
      "|        0|90.0456721836|Deborah Powell|1.57786202E9|\n",
      "|        0|89.4695644522|Deborah Powell| 1.5778656E9|\n",
      "|        0|88.1490304138|Deborah Powell|1.57786918E9|\n",
      "|        0|86.3092976213|Deborah Powell|1.57787277E9|\n",
      "|        0|86.6672980008|Deborah Powell|1.57787635E9|\n",
      "|        0|89.2044154758|Deborah Powell|1.57788006E9|\n",
      "|        0|88.8691678316|Deborah Powell|1.57788365E9|\n",
      "|        0|87.7252170634|Deborah Powell|1.57788723E9|\n",
      "|        0|87.8357187561|Deborah Powell|1.57789082E9|\n",
      "|        0|87.1769562648|Deborah Powell| 1.5778944E9|\n",
      "|        0|88.3403107931|Deborah Powell|1.57789798E9|\n",
      "|        0|88.9083484735|Deborah Powell|1.57790157E9|\n",
      "|        0| 87.921434203|Deborah Powell|1.57790515E9|\n",
      "+---------+-------------+--------------+------------+\n",
      "only showing top 20 rows\n",
      "\n"
     ]
    }
   ],
   "source": [
    "display(silver_health_tracker_data_df)"
   ]
  },
  {
   "cell_type": "code",
   "execution_count": 24,
   "metadata": {},
   "outputs": [],
   "source": [
    "from pyspark.sql.functions import col, from_unixtime\n",
    " \n",
    "silverDF = silver_health_tracker_data_df.withColumn(\"time\", from_unixtime(\"time\"))\n",
    "silverDF = silverDF.withColumn(\"time\", col(\"time\").cast(\"timestamp\"))\n",
    "silverDF = silverDF.withColumn(\"dte\", col(\"time\").cast(\"date\"))\n",
    "silverDF = silverDF.withColumn(\"device_id\", col(\"device_id\").cast(\"integer\"))\n"
   ]
  },
  {
   "cell_type": "code",
   "execution_count": 25,
   "metadata": {},
   "outputs": [
    {
     "name": "stdout",
     "output_type": "stream",
     "text": [
      "+---------+-------------+--------------+------------+\n",
      "|device_id|    heartrate|          name|        time|\n",
      "+---------+-------------+--------------+------------+\n",
      "|        0|52.8139067501|Deborah Powell| 1.5778368E9|\n",
      "|        0|53.9078900098|Deborah Powell|1.57784038E9|\n",
      "|        0|52.7129593616|Deborah Powell|1.57784397E9|\n",
      "|        0|52.2880422685|Deborah Powell|1.57784755E9|\n",
      "|        0|52.5156095386|Deborah Powell|1.57785114E9|\n",
      "|        0|53.6280743846|Deborah Powell|1.57785485E9|\n",
      "|        0|52.1760037066|Deborah Powell|1.57785843E9|\n",
      "|        0|90.0456721836|Deborah Powell|1.57786202E9|\n",
      "|        0|89.4695644522|Deborah Powell| 1.5778656E9|\n",
      "|        0|88.1490304138|Deborah Powell|1.57786918E9|\n",
      "|        0|86.3092976213|Deborah Powell|1.57787277E9|\n",
      "|        0|86.6672980008|Deborah Powell|1.57787635E9|\n",
      "|        0|89.2044154758|Deborah Powell|1.57788006E9|\n",
      "|        0|88.8691678316|Deborah Powell|1.57788365E9|\n",
      "|        0|87.7252170634|Deborah Powell|1.57788723E9|\n",
      "|        0|87.8357187561|Deborah Powell|1.57789082E9|\n",
      "|        0|87.1769562648|Deborah Powell| 1.5778944E9|\n",
      "|        0|88.3403107931|Deborah Powell|1.57789798E9|\n",
      "|        0|88.9083484735|Deborah Powell|1.57790157E9|\n",
      "|        0| 87.921434203|Deborah Powell|1.57790515E9|\n",
      "+---------+-------------+--------------+------------+\n",
      "only showing top 20 rows\n",
      "\n"
     ]
    }
   ],
   "source": [
    "display(silver_health_tracker_data_df)"
   ]
  },
  {
   "cell_type": "code",
   "execution_count": 26,
   "metadata": {},
   "outputs": [],
   "source": [
    "silver_health_tracker_data_df.write \\\n",
    "   .mode(\"overwrite\") \\\n",
    "   .format(\"delta\") \\\n",
    "   .partitionBy(\"device_id\") \\\n",
    "   .save(health_tracker + \"silver\")\n"
   ]
  },
  {
   "cell_type": "code",
   "execution_count": 29,
   "metadata": {},
   "outputs": [
    {
     "name": "stdout",
     "output_type": "stream",
     "text": [
      " _delta_log    'device_id=1'  'device_id=3'\n",
      "'device_id=0'  'device_id=2'  'device_id=4'\n"
     ]
    }
   ],
   "source": [
    "!ls ../data/health_tracker/silver"
   ]
  },
  {
   "cell_type": "code",
   "execution_count": 30,
   "metadata": {},
   "outputs": [],
   "source": [
    "raw_health_tracker_data_df = spark.read \\\n",
    "    .format(\"text\") \\\n",
    "    .load(health_tracker + \"raw/health_tracker_data_2020_2.json\")\n"
   ]
  },
  {
   "cell_type": "code",
   "execution_count": 31,
   "metadata": {},
   "outputs": [],
   "source": [
    "raw_health_tracker_data_df.write \\\n",
    " .mode(\"append\") \\\n",
    " .format(\"delta\") \\\n",
    " .save(health_tracker + \"bronze\")\n"
   ]
  },
  {
   "cell_type": "code",
   "execution_count": 32,
   "metadata": {},
   "outputs": [],
   "source": [
    "!rm ../data/health_tracker/raw/health_tracker_data_2020_2.json"
   ]
  },
  {
   "cell_type": "code",
   "execution_count": 33,
   "metadata": {},
   "outputs": [],
   "source": [
    "bronze_health_tracker_data_df = spark.read \\\n",
    "    .format(\"delta\") \\\n",
    "    .load(health_tracker + \"bronze\")"
   ]
  },
  {
   "cell_type": "code",
   "execution_count": 34,
   "metadata": {},
   "outputs": [],
   "source": [
    "from pyspark.sql.functions import col, from_json\n",
    "\n",
    "json_schema = \"device_id int, heartrate double, name string, time float\"\n",
    "bronze_health_tracker_data_df = bronze_health_tracker_data_df \\\n",
    "    .withColumn(\"json\", from_json(col(\"value\"), json_schema))"
   ]
  },
  {
   "cell_type": "code",
   "execution_count": 35,
   "metadata": {},
   "outputs": [],
   "source": [
    "silver_health_tracker_data_df = bronze_health_tracker_data_df \\\n",
    "    .select(\n",
    "        col(\"json.device_id\"),\n",
    "        col(\"json.heartrate\"),\n",
    "        col(\"json.name\"),\n",
    "        col(\"json.time\"),\n",
    "    )"
   ]
  },
  {
   "cell_type": "code",
   "execution_count": 36,
   "metadata": {},
   "outputs": [],
   "source": [
    "from pyspark.sql.functions import col, from_unixtime\n",
    " \n",
    "silverDF = silver_health_tracker_data_df.withColumn(\"time\", from_unixtime(\"time\"))\n",
    "silverDF = silverDF.withColumn(\"time\", col(\"time\").cast(\"timestamp\"))\n",
    "silverDF = silverDF.withColumn(\"dte\", col(\"time\").cast(\"date\"))\n",
    "silverDF = silverDF.withColumn(\"device_id\", col(\"device_id\").cast(\"integer\"))\n"
   ]
  },
  {
   "cell_type": "code",
   "execution_count": 37,
   "metadata": {},
   "outputs": [],
   "source": [
    "silver_health_tracker_data_df.write \\\n",
    "   .mode(\"append\") \\\n",
    "   .format(\"delta\") \\\n",
    "   .partitionBy(\"device_id\") \\\n",
    "   .save(health_tracker + \"silver\")\n"
   ]
  },
  {
   "cell_type": "code",
   "execution_count": 38,
   "metadata": {},
   "outputs": [
    {
     "name": "stdout",
     "output_type": "stream",
     "text": [
      " _delta_log    'device_id=1'  'device_id=3'\n",
      "'device_id=0'  'device_id=2'  'device_id=4'\n"
     ]
    }
   ],
   "source": [
    "!ls ../data/health_tracker/silver"
   ]
  },
  {
   "cell_type": "code",
   "execution_count": 39,
   "metadata": {},
   "outputs": [
    {
     "data": {
      "text/plain": [
       "10848"
      ]
     },
     "execution_count": 39,
     "metadata": {},
     "output_type": "execute_result"
    }
   ],
   "source": [
    "spark.read.format(\"delta\").load(health_tracker + \"silver\").count()"
   ]
  },
  {
   "cell_type": "code",
   "execution_count": 40,
   "metadata": {},
   "outputs": [],
   "source": [
    "silver_health_tracker_data_df = spark.read \\\n",
    "    .format(\"delta\") \\\n",
    "    .load(health_tracker + \"silver\")"
   ]
  },
  {
   "cell_type": "code",
   "execution_count": 41,
   "metadata": {},
   "outputs": [],
   "source": [
    "from pyspark.sql.functions import col, mean, stddev, max\n",
    " \n",
    "gold_health_tracker_data_df = silver_health_tracker_data_df.groupBy(\"device_id\") \\\n",
    "          .agg(mean(col(\"heartrate\")).alias(\"mean_heartrate\"), \n",
    "               stddev(col(\"heartrate\")).alias(\"std_heartrate\"), \n",
    "               max(col(\"heartrate\")).alias(\"max_heartrate\"))\n"
   ]
  },
  {
   "cell_type": "code",
   "execution_count": 42,
   "metadata": {},
   "outputs": [
    {
     "name": "stdout",
     "output_type": "stream",
     "text": [
      "+---------+-----------------+------------------+--------------+\n",
      "|device_id|   mean_heartrate|     std_heartrate| max_heartrate|\n",
      "+---------+-----------------+------------------+--------------+\n",
      "|        1|78.48811070421434| 32.41381560160755| 168.114687819|\n",
      "|        3|82.21427876390008|30.386655126098105|175.0032148522|\n",
      "|        4|81.52282375220065| 33.96101327923803| 199.092971234|\n",
      "|        2|79.85712287206904|31.528706004038472|189.2113455089|\n",
      "|        0|81.55085537215119|31.353747477803626|186.4790827731|\n",
      "+---------+-----------------+------------------+--------------+\n",
      "\n"
     ]
    }
   ],
   "source": [
    "display(gold_health_tracker_data_df)"
   ]
  },
  {
   "cell_type": "code",
   "execution_count": 43,
   "metadata": {},
   "outputs": [],
   "source": [
    "gold_health_tracker_data_df.write \\\n",
    "   .mode(\"overwrite\") \\\n",
    "   .format(\"delta\") \\\n",
    "   .partitionBy(\"device_id\") \\\n",
    "   .save(health_tracker + \"gold/heartrate_aggregation\")\n"
   ]
  },
  {
   "cell_type": "code",
   "execution_count": 44,
   "metadata": {},
   "outputs": [
    {
     "data": {
      "text/plain": [
       "DataFrame[]"
      ]
     },
     "execution_count": 44,
     "metadata": {},
     "output_type": "execute_result"
    }
   ],
   "source": [
    "spark.sql(\"\"\"\n",
    "DROP TABLE IF EXISTS health_tracker_gold_heartrate_aggregation\n",
    "\"\"\")"
   ]
  },
  {
   "cell_type": "code",
   "execution_count": 45,
   "metadata": {},
   "outputs": [
    {
     "data": {
      "text/plain": [
       "DataFrame[]"
      ]
     },
     "execution_count": 45,
     "metadata": {},
     "output_type": "execute_result"
    }
   ],
   "source": [
    "spark.sql(f\"\"\"\n",
    "CREATE TABLE health_tracker_gold_heartrate_aggregation\n",
    "USING DELTA\n",
    "LOCATION \"{health_tracker + \"gold/heartrate_aggregation\"}\"\n",
    "\"\"\")"
   ]
  },
  {
   "cell_type": "code",
   "execution_count": 46,
   "metadata": {},
   "outputs": [],
   "source": [
    "raw_health_tracker_data_df = spark.read \\\n",
    "    .format(\"text\") \\\n",
    "    .load(health_tracker + \"raw/health_tracker_data_2020_3.json\")"
   ]
  },
  {
   "cell_type": "code",
   "execution_count": 47,
   "metadata": {},
   "outputs": [],
   "source": [
    "raw_health_tracker_data_df.write \\\n",
    " .mode(\"append\") \\\n",
    " .format(\"delta\") \\\n",
    " .save(health_tracker + \"bronze\")"
   ]
  },
  {
   "cell_type": "code",
   "execution_count": 48,
   "metadata": {},
   "outputs": [],
   "source": [
    "!rm ../data/health_tracker/raw/health_tracker_data_2020_3.json"
   ]
  },
  {
   "cell_type": "code",
   "execution_count": 49,
   "metadata": {},
   "outputs": [],
   "source": [
    "bronze_health_tracker_data_df = spark.read \\\n",
    "    .format(\"delta\") \\\n",
    "    .load(health_tracker + \"bronze\")"
   ]
  },
  {
   "cell_type": "code",
   "execution_count": 50,
   "metadata": {},
   "outputs": [],
   "source": [
    "from pyspark.sql.functions import col, from_json\n",
    "\n",
    "json_schema = \"device_id int, heartrate double, name string, time float\"\n",
    "bronze_health_tracker_data_df = bronze_health_tracker_data_df \\\n",
    "    .withColumn(\"json\", from_json(col(\"value\"), json_schema))"
   ]
  },
  {
   "cell_type": "code",
   "execution_count": 51,
   "metadata": {},
   "outputs": [],
   "source": [
    "silver_health_tracker_data_df = bronze_health_tracker_data_df \\\n",
    "    .select(\n",
    "        col(\"json.device_id\"),\n",
    "        col(\"json.heartrate\"),\n",
    "        col(\"json.name\"),\n",
    "        col(\"json.time\"),\n",
    "    )"
   ]
  },
  {
   "cell_type": "code",
   "execution_count": 52,
   "metadata": {},
   "outputs": [],
   "source": [
    "from pyspark.sql.functions import col, from_unixtime\n",
    " \n",
    "silverDF = silver_health_tracker_data_df.withColumn(\"time\", from_unixtime(\"time\"))\n",
    "silverDF = silverDF.withColumn(\"time\", col(\"time\").cast(\"timestamp\"))\n",
    "silverDF = silverDF.withColumn(\"dte\", col(\"time\").cast(\"date\"))\n",
    "silverDF = silverDF.withColumn(\"device_id\", col(\"device_id\").cast(\"integer\"))\n"
   ]
  },
  {
   "cell_type": "code",
   "execution_count": 53,
   "metadata": {},
   "outputs": [],
   "source": [
    "silver_health_tracker_data_df.write \\\n",
    "   .mode(\"append\") \\\n",
    "   .format(\"delta\") \\\n",
    "   .partitionBy(\"device_id\") \\\n",
    "   .save(health_tracker + \"silver\")\n"
   ]
  },
  {
   "cell_type": "code",
   "execution_count": 54,
   "metadata": {},
   "outputs": [
    {
     "data": {
      "text/plain": [
       "21696"
      ]
     },
     "execution_count": 54,
     "metadata": {},
     "output_type": "execute_result"
    }
   ],
   "source": [
    "spark.read.format(\"delta\").load(health_tracker + \"silver\").count()"
   ]
  },
  {
   "cell_type": "code",
   "execution_count": 55,
   "metadata": {},
   "outputs": [],
   "source": [
    "silver_health_tracker_data_df = spark.read \\\n",
    "    .format(\"delta\") \\\n",
    "    .load(health_tracker + \"silver\")"
   ]
  },
  {
   "cell_type": "code",
   "execution_count": 56,
   "metadata": {},
   "outputs": [
    {
     "name": "stdout",
     "output_type": "stream",
     "text": [
      "+---------+-----------------+-----------------+--------------+\n",
      "|device_id|   mean_heartrate|    std_heartrate| max_heartrate|\n",
      "+---------+-----------------+-----------------+--------------+\n",
      "|        1|78.80687463997273|33.11572024824403|170.4458361857|\n",
      "|        3|82.11862980332091|32.10612782852019|218.7730128322|\n",
      "|        4|81.09156866022388|34.64492525161848| 199.092971234|\n",
      "|        2|80.56347984456683|31.80555162296133|189.2113455089|\n",
      "|        0|81.12243550089097| 31.3713313474477|186.4790827731|\n",
      "+---------+-----------------+-----------------+--------------+\n",
      "\n"
     ]
    }
   ],
   "source": [
    "display(gold_health_tracker_data_df)"
   ]
  }
 ],
 "metadata": {
  "kernelspec": {
   "display_name": "Python 3",
   "language": "python",
   "name": "python3"
  },
  "language_info": {
   "codemirror_mode": {
    "name": "ipython",
    "version": 3
   },
   "file_extension": ".py",
   "mimetype": "text/x-python",
   "name": "python",
   "nbconvert_exporter": "python",
   "pygments_lexer": "ipython3",
   "version": "3.7.6"
  }
 },
 "nbformat": 4,
 "nbformat_minor": 4
}
